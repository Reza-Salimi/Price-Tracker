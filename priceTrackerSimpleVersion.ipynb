{
 "cells": [
  {
   "cell_type": "code",
   "execution_count": null,
   "metadata": {},
   "outputs": [],
   "source": [
    "import pandas as pd\n",
    "df = pd.read_excel(r\"C:\\Users\\123\\Downloads\\mysql\\price-history-1397-10-01-to-1399-10-01.ketram.xlsx\", header=7, parse_dates=True)\n"
   ]
  },
  {
   "cell_type": "code",
   "execution_count": null,
   "metadata": {},
   "outputs": [],
   "source": [
    "df = df[['پایانی','تاریخ میلادی']]\n",
    "df"
   ]
  },
  {
   "cell_type": "code",
   "execution_count": null,
   "metadata": {},
   "outputs": [],
   "source": [
    "df.set_index('تاریخ میلادی', inplace=True, drop=True)"
   ]
  },
  {
   "cell_type": "code",
   "execution_count": null,
   "metadata": {},
   "outputs": [],
   "source": [
    "df.sort_index(ascending=True, inplace=True)\n",
    "df"
   ]
  },
  {
   "cell_type": "code",
   "execution_count": null,
   "metadata": {},
   "outputs": [],
   "source": [
    "dg = df['2020-08-01':'2020-09-15']"
   ]
  },
  {
   "cell_type": "code",
   "execution_count": null,
   "metadata": {},
   "outputs": [],
   "source": [
    "dg.reset_index(inplace=True)"
   ]
  },
  {
   "cell_type": "code",
   "execution_count": null,
   "metadata": {},
   "outputs": [],
   "source": [
    "l = {}\n",
    "for i in range(len(dg.index)):\n",
    "    if i<len(dg.index):\n",
    "        for j in range(i+1, len(dg.index)):\n",
    "            l[(i,j)]=(dg.iloc[j,1]-dg.iloc[i,1])\n",
    "            \n",
    "    "
   ]
  },
  {
   "cell_type": "code",
   "execution_count": null,
   "metadata": {},
   "outputs": [],
   "source": [
    "def get_key(n):\n",
    "    h = set()\n",
    "    for i in l.keys():\n",
    "        h.add(i[n])\n",
    "    return list(h)"
   ]
  },
  {
   "cell_type": "code",
   "execution_count": null,
   "metadata": {},
   "outputs": [],
   "source": [
    "ks={}\n",
    "for j in get_key(0):\n",
    "    ksl={}\n",
    "    ksl=dict([(key, l[key]) for key in l.keys() if key[0]==j])\n",
    "    ks[max(ksl, key=ksl.get)]=ksl[max(ksl, key=ksl.get)]"
   ]
  },
  {
   "cell_type": "code",
   "execution_count": null,
   "metadata": {},
   "outputs": [],
   "source": [
    "ks"
   ]
  },
  {
   "cell_type": "code",
   "execution_count": null,
   "metadata": {},
   "outputs": [],
   "source": [
    "inj=[]\n",
    "for i in dg.index:\n",
    "    if i%2!=0:\n",
    "        inj.append(i)\n",
    "mt = len(inj) # The utmost number of consecutive trades\n",
    "\n",
    "def get_key(n):\n",
    "    h = set()\n",
    "    for i in l.keys():\n",
    "        h.add(i[n])\n",
    "    return list(h)\n"
   ]
  },
  {
   "cell_type": "code",
   "execution_count": null,
   "metadata": {},
   "outputs": [],
   "source": [
    "vh=[]\n",
    "for i in ks.keys():\n",
    "    vh.append([i])\n",
    "def fgh(i):\n",
    "    if i==1:\n",
    "        return vh\n",
    "    if i>1:\n",
    "        wh=[]\n",
    "        for t in fgh(i-1):\n",
    "            for j in ks.keys():\n",
    "                if (t[-1][1]<j[0]):\n",
    "                    wh.append([t[i] for i in range(i-1)]+[j])\n",
    "\n",
    "    return wh"
   ]
  },
  {
   "cell_type": "code",
   "execution_count": null,
   "metadata": {},
   "outputs": [],
   "source": [
    "#fgh(10)"
   ]
  },
  {
   "cell_type": "code",
   "execution_count": null,
   "metadata": {},
   "outputs": [],
   "source": [
    "fih={}\n",
    "for i in range(1,mt+1):\n",
    "    cf=[]\n",
    "    for j in fgh(i):\n",
    "        bg=0\n",
    "        for s in j:\n",
    "            bg+=ks[s]\n",
    "        cf.append((j,bg))\n",
    "    fih[i]=cf\n",
    "    "
   ]
  },
  {
   "cell_type": "code",
   "execution_count": null,
   "metadata": {},
   "outputs": [],
   "source": [
    "#fih[4]"
   ]
  },
  {
   "cell_type": "code",
   "execution_count": null,
   "metadata": {},
   "outputs": [],
   "source": [
    "#l"
   ]
  },
  {
   "cell_type": "code",
   "execution_count": null,
   "metadata": {},
   "outputs": [],
   "source": [
    "kih={}\n",
    "for i in range(1,mt+1):\n",
    "    lst=[]\n",
    "    for j in fih[i]:\n",
    "        lst.append(j[1])\n",
    "    for j in fih[i]:\n",
    "        if j[1]==max(lst):\n",
    "            kih[i]=[j[0],max(lst)]\n",
    "    "
   ]
  },
  {
   "cell_type": "code",
   "execution_count": null,
   "metadata": {},
   "outputs": [],
   "source": [
    "kih"
   ]
  },
  {
   "cell_type": "code",
   "execution_count": null,
   "metadata": {},
   "outputs": [],
   "source": [
    "dg.plot(figsize=(15,5),xticks=dg.index)"
   ]
  },
  {
   "cell_type": "code",
   "execution_count": null,
   "metadata": {},
   "outputs": [],
   "source": []
  }
 ],
 "metadata": {
  "kernelspec": {
   "display_name": "Python 3",
   "language": "python",
   "name": "python3"
  },
  "language_info": {
   "codemirror_mode": {
    "name": "ipython",
    "version": 3
   },
   "file_extension": ".py",
   "mimetype": "text/x-python",
   "name": "python",
   "nbconvert_exporter": "python",
   "pygments_lexer": "ipython3",
   "version": "3.8.3"
  }
 },
 "nbformat": 4,
 "nbformat_minor": 4
}
